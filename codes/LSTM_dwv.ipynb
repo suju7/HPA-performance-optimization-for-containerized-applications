{
  "nbformat": 4,
  "nbformat_minor": 0,
  "metadata": {
    "colab": {
      "name": "LSTM_dwv.ipynb",
      "provenance": [],
      "collapsed_sections": []
    },
    "kernelspec": {
      "name": "python3",
      "display_name": "Python 3"
    },
    "language_info": {
      "name": "python"
    }
  },
  "cells": [
    {
      "cell_type": "code",
      "execution_count": null,
      "metadata": {
        "id": "R6iEcUCMoVe-"
      },
      "outputs": [],
      "source": [
        "import pandas as pd\n",
        "import numpy as np          # For mathematical calculations\n",
        "import matplotlib.pyplot as plt  # For plotting graphs\n",
        "from datetime import datetime    # To access datetime\n",
        "from pandas import Series        # To work on series\n",
        "%matplotlib inline\n",
        "import warnings                   \n",
        "warnings.filterwarnings(\"ignore\")"
      ]
    },
    {
      "cell_type": "code",
      "source": [
        "df = pd.read_csv(\"/content/sample_data/daily-website-visitors.csv\")\n",
        "\n",
        "df['Date'] = pd.to_datetime(df.Date, format='%m/%d/%Y')\n",
        "df['Page.Loads'] = df['Page.Loads'].str.replace(',', '')\n",
        "df['Count'] = df['Page.Loads'].astype(str).astype(int)\n",
        "df = df[['Date', 'Day', 'Count']]\n",
        "df.set_index('Date', inplace=True)"
      ],
      "metadata": {
        "id": "XwFAMGF2ryV5"
      },
      "execution_count": null,
      "outputs": []
    },
    {
      "cell_type": "code",
      "source": [
        "# take data upto 12/31/2019\n",
        "df = df[df.index <= '12/31/2019']\n",
        "\n",
        "# drop first three data as we want len(df) % 7 = 0 for weekly data\n",
        "# df.drop(df.head(3).index, inplace = True)\n",
        "\n",
        "# we now have 276 weeks: to make it pretty, let's take a whole 270 weeks and make 90-10 split.\n",
        "# df.drop(df.head(6*7).index, inplace = True)"
      ],
      "metadata": {
        "id": "u_hqSVi7sMzl"
      },
      "execution_count": null,
      "outputs": []
    },
    {
      "cell_type": "code",
      "source": [
        "df.shape"
      ],
      "metadata": {
        "colab": {
          "base_uri": "https://localhost:8080/"
        },
        "id": "B4OB52UFC-CV",
        "outputId": "79a0ea9c-3a20-4091-8bab-ce932fb9a21b"
      },
      "execution_count": null,
      "outputs": [
        {
          "output_type": "execute_result",
          "data": {
            "text/plain": [
              "(1935, 2)"
            ]
          },
          "metadata": {},
          "execution_count": 24
        }
      ]
    },
    {
      "cell_type": "code",
      "source": [
        "df1=df.reset_index()['Count']"
      ],
      "metadata": {
        "id": "91RxMosws74Y"
      },
      "execution_count": null,
      "outputs": []
    },
    {
      "cell_type": "code",
      "source": [
        "from sklearn.preprocessing import MinMaxScaler\n",
        "scaler=MinMaxScaler(feature_range=(0,1))\n",
        "df1=scaler.fit_transform(np.array(df1).reshape(-1,1))"
      ],
      "metadata": {
        "id": "5TQ5eQmcs72S"
      },
      "execution_count": null,
      "outputs": []
    },
    {
      "cell_type": "code",
      "source": [
        "# splitting dataset into train and test split\n",
        "training_size=int(len(df1) * 0.9)\n",
        "test_size=len(df1)-training_size\n",
        "train_data,test_data=df1[0:training_size,:],df1[training_size:len(df1),:1]"
      ],
      "metadata": {
        "id": "9-xjOIkcs70D"
      },
      "execution_count": null,
      "outputs": []
    },
    {
      "cell_type": "code",
      "source": [
        "training_size,test_size"
      ],
      "metadata": {
        "id": "H6XlP1JXs7xw",
        "colab": {
          "base_uri": "https://localhost:8080/"
        },
        "outputId": "94ae306e-8244-412c-9608-9e5aef21b492"
      },
      "execution_count": null,
      "outputs": [
        {
          "output_type": "execute_result",
          "data": {
            "text/plain": [
              "(1741, 194)"
            ]
          },
          "metadata": {},
          "execution_count": 31
        }
      ]
    },
    {
      "cell_type": "code",
      "source": [
        "import numpy\n",
        "# convert an array of values into a dataset matrix\n",
        "def create_dataset(dataset, time_step=1):\n",
        "\tdataX, dataY = [], []\n",
        "\tfor i in range(len(dataset)-time_step-1):\n",
        "\t\ta = dataset[i:(i+time_step), 0]   # for i=0, datax = [0,1,2,3-----99], datay = 100 \n",
        "\t\tdataX.append(a)\n",
        "\t\tdataY.append([dataset[i + time_step, 0]]) # !!!!! MADE A CHANGE HERE !!!!!\n",
        "\treturn numpy.array(dataX), numpy.array(dataY)"
      ],
      "metadata": {
        "id": "NtEjVUThs7vL"
      },
      "execution_count": null,
      "outputs": []
    },
    {
      "cell_type": "markdown",
      "source": [
        "###### MADE A CHANGE ABOVE ⏫"
      ],
      "metadata": {
        "id": "rDoPQQFnXT4-"
      }
    },
    {
      "cell_type": "code",
      "source": [
        "# reshape into X=t,t+1,t+2,t+3 and Y=t+4\n",
        "time_step = 100\n",
        "X_train, y_train = create_dataset(train_data, time_step)\n",
        "X_test, ytest = create_dataset(test_data, time_step)"
      ],
      "metadata": {
        "id": "tL-SFzfaA2ua"
      },
      "execution_count": null,
      "outputs": []
    },
    {
      "cell_type": "code",
      "source": [
        "X_train.shape, y_train.shape, X_test.shape, ytest.shape"
      ],
      "metadata": {
        "colab": {
          "base_uri": "https://localhost:8080/"
        },
        "id": "dPbKSbcRA2sV",
        "outputId": "78ae9f2b-bc1a-4218-bcc4-44b6db966f60"
      },
      "execution_count": null,
      "outputs": [
        {
          "output_type": "execute_result",
          "data": {
            "text/plain": [
              "((1640, 100), (1640, 1), (93, 100), (93, 1))"
            ]
          },
          "metadata": {},
          "execution_count": 34
        }
      ]
    },
    {
      "cell_type": "code",
      "source": [
        "# reshape input to be [samples, time steps, features] which is required for LSTM\n",
        "X_train = X_train.reshape(X_train.shape[0], X_train.shape[1] , 1)\n",
        "X_test = X_test.reshape(X_test.shape[0], X_test.shape[1] , 1)"
      ],
      "metadata": {
        "id": "2kuhIlBXA2p9"
      },
      "execution_count": null,
      "outputs": []
    },
    {
      "cell_type": "code",
      "source": [
        "### Create the Stacked LSTM model\n",
        "from tensorflow.keras.models import Sequential\n",
        "from tensorflow.keras.layers import Dense\n",
        "from tensorflow.keras.layers import LSTM"
      ],
      "metadata": {
        "id": "HrgIG1xqA2np"
      },
      "execution_count": null,
      "outputs": []
    },
    {
      "cell_type": "code",
      "source": [
        "model=Sequential()\n",
        "model.add(LSTM(50,return_sequences=True,input_shape=(time_step,1)))\n",
        "model.add(LSTM(50,return_sequences=True))\n",
        "model.add(LSTM(50))\n",
        "model.add(Dense(1))\n",
        "model.compile(loss='mean_squared_error',optimizer='adam')\n",
        "model.summary()"
      ],
      "metadata": {
        "colab": {
          "base_uri": "https://localhost:8080/"
        },
        "id": "cadQGnPJA2ly",
        "outputId": "4af49a02-68f8-4e4a-b53a-8bde6d614863"
      },
      "execution_count": null,
      "outputs": [
        {
          "output_type": "stream",
          "name": "stdout",
          "text": [
            "Model: \"sequential_1\"\n",
            "_________________________________________________________________\n",
            " Layer (type)                Output Shape              Param #   \n",
            "=================================================================\n",
            " lstm_3 (LSTM)               (None, 100, 50)           10400     \n",
            "                                                                 \n",
            " lstm_4 (LSTM)               (None, 100, 50)           20200     \n",
            "                                                                 \n",
            " lstm_5 (LSTM)               (None, 50)                20200     \n",
            "                                                                 \n",
            " dense_1 (Dense)             (None, 1)                 51        \n",
            "                                                                 \n",
            "=================================================================\n",
            "Total params: 50,851\n",
            "Trainable params: 50,851\n",
            "Non-trainable params: 0\n",
            "_________________________________________________________________\n"
          ]
        }
      ]
    },
    {
      "cell_type": "code",
      "source": [
        "model.fit(X_train,y_train,epochs=100,batch_size=64,verbose=1) # validation_data=(X_test,ytest)"
      ],
      "metadata": {
        "colab": {
          "base_uri": "https://localhost:8080/"
        },
        "id": "v00Wvn8oA2jj",
        "outputId": "f768be56-a029-4b5a-a053-1ffeef588053"
      },
      "execution_count": null,
      "outputs": [
        {
          "output_type": "stream",
          "name": "stdout",
          "text": [
            "Epoch 1/100\n",
            "26/26 [==============================] - 11s 187ms/step - loss: 0.0624\n",
            "Epoch 2/100\n",
            "26/26 [==============================] - 5s 186ms/step - loss: 0.0302\n",
            "Epoch 3/100\n",
            "26/26 [==============================] - 5s 185ms/step - loss: 0.0290\n",
            "Epoch 4/100\n",
            "26/26 [==============================] - 5s 183ms/step - loss: 0.0279\n",
            "Epoch 5/100\n",
            "26/26 [==============================] - 5s 183ms/step - loss: 0.0267\n",
            "Epoch 6/100\n",
            "26/26 [==============================] - 5s 200ms/step - loss: 0.0266\n",
            "Epoch 7/100\n",
            "26/26 [==============================] - 5s 184ms/step - loss: 0.0258\n",
            "Epoch 8/100\n",
            "26/26 [==============================] - 5s 182ms/step - loss: 0.0251\n",
            "Epoch 9/100\n",
            "26/26 [==============================] - 5s 195ms/step - loss: 0.0245\n",
            "Epoch 10/100\n",
            "26/26 [==============================] - 5s 183ms/step - loss: 0.0243\n",
            "Epoch 11/100\n",
            "26/26 [==============================] - 5s 182ms/step - loss: 0.0241\n",
            "Epoch 12/100\n",
            "26/26 [==============================] - 5s 180ms/step - loss: 0.0238\n",
            "Epoch 13/100\n",
            "26/26 [==============================] - 5s 181ms/step - loss: 0.0234\n",
            "Epoch 14/100\n",
            "26/26 [==============================] - 5s 180ms/step - loss: 0.0224\n",
            "Epoch 15/100\n",
            "26/26 [==============================] - 5s 180ms/step - loss: 0.0210\n",
            "Epoch 16/100\n",
            "26/26 [==============================] - 5s 179ms/step - loss: 0.0181\n",
            "Epoch 17/100\n",
            "26/26 [==============================] - 5s 197ms/step - loss: 0.0142\n",
            "Epoch 18/100\n",
            "26/26 [==============================] - 8s 315ms/step - loss: 0.0113\n",
            "Epoch 19/100\n",
            "26/26 [==============================] - 5s 181ms/step - loss: 0.0105\n",
            "Epoch 20/100\n",
            "26/26 [==============================] - 5s 183ms/step - loss: 0.0097\n",
            "Epoch 21/100\n",
            "26/26 [==============================] - 5s 182ms/step - loss: 0.0088\n",
            "Epoch 22/100\n",
            "26/26 [==============================] - 6s 219ms/step - loss: 0.0080\n",
            "Epoch 23/100\n",
            "26/26 [==============================] - 5s 180ms/step - loss: 0.0082\n",
            "Epoch 24/100\n",
            "26/26 [==============================] - 5s 178ms/step - loss: 0.0082\n",
            "Epoch 25/100\n",
            "26/26 [==============================] - 5s 178ms/step - loss: 0.0072\n",
            "Epoch 26/100\n",
            "26/26 [==============================] - 5s 182ms/step - loss: 0.0068\n",
            "Epoch 27/100\n",
            "26/26 [==============================] - 5s 185ms/step - loss: 0.0073\n",
            "Epoch 28/100\n",
            "26/26 [==============================] - 5s 185ms/step - loss: 0.0065\n",
            "Epoch 29/100\n",
            "26/26 [==============================] - 5s 185ms/step - loss: 0.0056\n",
            "Epoch 30/100\n",
            "26/26 [==============================] - 5s 189ms/step - loss: 0.0051\n",
            "Epoch 31/100\n",
            "26/26 [==============================] - 5s 187ms/step - loss: 0.0056\n",
            "Epoch 32/100\n",
            "26/26 [==============================] - 5s 186ms/step - loss: 0.0055\n",
            "Epoch 33/100\n",
            "26/26 [==============================] - 5s 184ms/step - loss: 0.0047\n",
            "Epoch 34/100\n",
            "26/26 [==============================] - 5s 193ms/step - loss: 0.0045\n",
            "Epoch 35/100\n",
            "26/26 [==============================] - 5s 189ms/step - loss: 0.0047\n",
            "Epoch 36/100\n",
            "26/26 [==============================] - 5s 191ms/step - loss: 0.0047\n",
            "Epoch 37/100\n",
            "26/26 [==============================] - 5s 192ms/step - loss: 0.0042\n",
            "Epoch 38/100\n",
            "26/26 [==============================] - 5s 187ms/step - loss: 0.0042\n",
            "Epoch 39/100\n",
            "26/26 [==============================] - 5s 190ms/step - loss: 0.0040\n",
            "Epoch 40/100\n",
            "26/26 [==============================] - 5s 202ms/step - loss: 0.0040\n",
            "Epoch 41/100\n",
            "26/26 [==============================] - 5s 187ms/step - loss: 0.0041\n",
            "Epoch 42/100\n",
            "26/26 [==============================] - 5s 186ms/step - loss: 0.0038\n",
            "Epoch 43/100\n",
            "26/26 [==============================] - 5s 187ms/step - loss: 0.0040\n",
            "Epoch 44/100\n",
            "26/26 [==============================] - 5s 185ms/step - loss: 0.0035\n",
            "Epoch 45/100\n",
            "26/26 [==============================] - 5s 202ms/step - loss: 0.0042\n",
            "Epoch 46/100\n",
            "26/26 [==============================] - 5s 189ms/step - loss: 0.0038\n",
            "Epoch 47/100\n",
            "26/26 [==============================] - 5s 193ms/step - loss: 0.0036\n",
            "Epoch 48/100\n",
            "26/26 [==============================] - 5s 189ms/step - loss: 0.0035\n",
            "Epoch 49/100\n",
            "26/26 [==============================] - 5s 185ms/step - loss: 0.0036\n",
            "Epoch 50/100\n",
            "26/26 [==============================] - 5s 187ms/step - loss: 0.0035\n",
            "Epoch 51/100\n",
            "26/26 [==============================] - 5s 187ms/step - loss: 0.0035\n",
            "Epoch 52/100\n",
            "26/26 [==============================] - 5s 185ms/step - loss: 0.0032\n",
            "Epoch 53/100\n",
            "26/26 [==============================] - 5s 185ms/step - loss: 0.0032\n",
            "Epoch 54/100\n",
            "26/26 [==============================] - 5s 185ms/step - loss: 0.0032\n",
            "Epoch 55/100\n",
            "26/26 [==============================] - 5s 188ms/step - loss: 0.0033\n",
            "Epoch 56/100\n",
            "26/26 [==============================] - 5s 184ms/step - loss: 0.0031\n",
            "Epoch 57/100\n",
            "26/26 [==============================] - 5s 185ms/step - loss: 0.0034\n",
            "Epoch 58/100\n",
            "26/26 [==============================] - 5s 184ms/step - loss: 0.0034\n",
            "Epoch 59/100\n",
            "26/26 [==============================] - 5s 184ms/step - loss: 0.0034\n",
            "Epoch 60/100\n",
            "26/26 [==============================] - 5s 184ms/step - loss: 0.0032\n",
            "Epoch 61/100\n",
            "26/26 [==============================] - 5s 186ms/step - loss: 0.0029\n",
            "Epoch 62/100\n",
            "26/26 [==============================] - 5s 183ms/step - loss: 0.0030\n",
            "Epoch 63/100\n",
            "26/26 [==============================] - 5s 182ms/step - loss: 0.0031\n",
            "Epoch 64/100\n",
            "26/26 [==============================] - 5s 182ms/step - loss: 0.0031\n",
            "Epoch 65/100\n",
            "26/26 [==============================] - 5s 181ms/step - loss: 0.0030\n",
            "Epoch 66/100\n",
            "26/26 [==============================] - 5s 185ms/step - loss: 0.0031\n",
            "Epoch 67/100\n",
            "26/26 [==============================] - 5s 186ms/step - loss: 0.0029\n",
            "Epoch 68/100\n",
            "26/26 [==============================] - 5s 184ms/step - loss: 0.0031\n",
            "Epoch 69/100\n",
            "26/26 [==============================] - 5s 184ms/step - loss: 0.0026\n",
            "Epoch 70/100\n",
            "26/26 [==============================] - 5s 186ms/step - loss: 0.0026\n",
            "Epoch 71/100\n",
            "26/26 [==============================] - 5s 186ms/step - loss: 0.0030\n",
            "Epoch 72/100\n",
            "26/26 [==============================] - 5s 187ms/step - loss: 0.0029\n",
            "Epoch 73/100\n",
            "26/26 [==============================] - 5s 196ms/step - loss: 0.0026\n",
            "Epoch 74/100\n",
            "26/26 [==============================] - 5s 190ms/step - loss: 0.0028\n",
            "Epoch 75/100\n",
            "26/26 [==============================] - 5s 187ms/step - loss: 0.0029\n",
            "Epoch 76/100\n",
            "26/26 [==============================] - 5s 185ms/step - loss: 0.0028\n",
            "Epoch 77/100\n",
            "26/26 [==============================] - 5s 187ms/step - loss: 0.0027\n",
            "Epoch 78/100\n",
            "26/26 [==============================] - 5s 185ms/step - loss: 0.0026\n",
            "Epoch 79/100\n",
            "26/26 [==============================] - 5s 187ms/step - loss: 0.0026\n",
            "Epoch 80/100\n",
            "26/26 [==============================] - 5s 187ms/step - loss: 0.0025\n",
            "Epoch 81/100\n",
            "26/26 [==============================] - 5s 189ms/step - loss: 0.0024\n",
            "Epoch 82/100\n",
            "26/26 [==============================] - 5s 186ms/step - loss: 0.0027\n",
            "Epoch 83/100\n",
            "26/26 [==============================] - 5s 187ms/step - loss: 0.0030\n",
            "Epoch 84/100\n",
            "26/26 [==============================] - 5s 188ms/step - loss: 0.0025\n",
            "Epoch 85/100\n",
            "26/26 [==============================] - 5s 188ms/step - loss: 0.0022\n",
            "Epoch 86/100\n",
            "26/26 [==============================] - 5s 192ms/step - loss: 0.0023\n",
            "Epoch 87/100\n",
            "26/26 [==============================] - 5s 192ms/step - loss: 0.0025\n",
            "Epoch 88/100\n",
            "26/26 [==============================] - 5s 191ms/step - loss: 0.0026\n",
            "Epoch 89/100\n",
            "26/26 [==============================] - 5s 190ms/step - loss: 0.0022\n",
            "Epoch 90/100\n",
            "26/26 [==============================] - 5s 190ms/step - loss: 0.0022\n",
            "Epoch 91/100\n",
            "26/26 [==============================] - 5s 198ms/step - loss: 0.0023\n",
            "Epoch 92/100\n",
            "26/26 [==============================] - 5s 195ms/step - loss: 0.0023\n",
            "Epoch 93/100\n",
            "26/26 [==============================] - 5s 188ms/step - loss: 0.0021\n",
            "Epoch 94/100\n",
            "26/26 [==============================] - 5s 190ms/step - loss: 0.0024\n",
            "Epoch 95/100\n",
            "26/26 [==============================] - 5s 192ms/step - loss: 0.0022\n",
            "Epoch 96/100\n",
            "26/26 [==============================] - 5s 191ms/step - loss: 0.0021\n",
            "Epoch 97/100\n",
            "26/26 [==============================] - 5s 199ms/step - loss: 0.0021\n",
            "Epoch 98/100\n",
            "26/26 [==============================] - 5s 191ms/step - loss: 0.0022\n",
            "Epoch 99/100\n",
            "26/26 [==============================] - 5s 189ms/step - loss: 0.0022\n",
            "Epoch 100/100\n",
            "26/26 [==============================] - 5s 188ms/step - loss: 0.0020\n"
          ]
        },
        {
          "output_type": "execute_result",
          "data": {
            "text/plain": [
              "<keras.callbacks.History at 0x7fd460429450>"
            ]
          },
          "metadata": {},
          "execution_count": 15
        }
      ]
    },
    {
      "cell_type": "code",
      "source": [
        "import tensorflow as tf\n",
        "### Lets Do the prediction and check performance metrics\n",
        "train_predict=model.predict(X_train)\n",
        "test_predict=model.predict(X_test)"
      ],
      "metadata": {
        "id": "Deml5TP2FSso"
      },
      "execution_count": null,
      "outputs": []
    },
    {
      "cell_type": "code",
      "source": [
        "# Transformback to original form\n",
        "y_train=scaler.inverse_transform(y_train)\n",
        "ytest=scaler.inverse_transform(ytest)\n",
        "\n",
        "train_predict=scaler.inverse_transform(train_predict)\n",
        "test_predict=scaler.inverse_transform(test_predict)"
      ],
      "metadata": {
        "id": "Iq3hrATcFSqR"
      },
      "execution_count": null,
      "outputs": []
    },
    {
      "cell_type": "code",
      "source": [
        "y_train[0], train_predict[0], ytest[0], test_predict[0]"
      ],
      "metadata": {
        "colab": {
          "base_uri": "https://localhost:8080/"
        },
        "id": "IhY59TVYUSHA",
        "outputId": "eaab3358-f054-4c7e-e3ba-867832d9e133"
      },
      "execution_count": null,
      "outputs": [
        {
          "output_type": "execute_result",
          "data": {
            "text/plain": [
              "(array([2298.]),\n",
              " array([2374.1226], dtype=float32),\n",
              " array([4076.]),\n",
              " array([3491.784], dtype=float32))"
            ]
          },
          "metadata": {},
          "execution_count": 18
        }
      ]
    },
    {
      "cell_type": "code",
      "source": [
        "### Calculate RMSE performance metrics\n",
        "import math\n",
        "from sklearn.metrics import mean_squared_error\n",
        "# math.sqrt(mean_squared_error(y_train,train_predict))\n",
        "\n",
        "mse = mean_squared_error(ytest,test_predict)\n",
        "rmse = math.sqrt(mse)\n",
        "nrmse = rmse / (max(df['Count']) - min(df['Count']))\n",
        "print(\"mse=\",mse,\"\\t\\trmse=\",rmse,\"\\tnrmse=\",nrmse)"
      ],
      "metadata": {
        "colab": {
          "base_uri": "https://localhost:8080/"
        },
        "id": "1dQNehY6FSnt",
        "outputId": "298ef299-8204-44cc-a996-8fd02cd50a1c"
      },
      "execution_count": null,
      "outputs": [
        {
          "output_type": "stream",
          "name": "stdout",
          "text": [
            "mse= 23879761.987528097 \t\trmse= 4886.692336082567 \tnrmse= 0.6998986445262915\n"
          ]
        }
      ]
    },
    {
      "cell_type": "code",
      "source": [
        "### Test Data RMSE\n",
        "math.sqrt(mean_squared_error(ytest,test_predict))"
      ],
      "metadata": {
        "colab": {
          "base_uri": "https://localhost:8080/"
        },
        "id": "DWW4nbwpFSlc",
        "outputId": "07005d97-ca34-422f-9a0a-2d7e421f2cf9"
      },
      "execution_count": null,
      "outputs": [
        {
          "output_type": "execute_result",
          "data": {
            "text/plain": [
              "416.61857453594286"
            ]
          },
          "metadata": {},
          "execution_count": 20
        }
      ]
    },
    {
      "cell_type": "code",
      "source": [
        "### Plotting \n",
        "# shift train predictions for plotting\n",
        "look_back=100\n",
        "trainPredictPlot = numpy.empty_like(df1)\n",
        "trainPredictPlot[:, :] = np.nan\n",
        "trainPredictPlot[look_back:len(train_predict)+look_back, :] = train_predict\n",
        "# shift test predictions for plotting\n",
        "testPredictPlot = numpy.empty_like(df1)\n",
        "testPredictPlot[:, :] = numpy.nan\n",
        "testPredictPlot[len(train_predict)+(look_back*2)+1:len(df1)-1, :] = test_predict\n",
        "# plot baseline and predictions\n",
        "plt.plot(scaler.inverse_transform(df1))\n",
        "plt.plot(trainPredictPlot)\n",
        "plt.plot(testPredictPlot)\n",
        "plt.show()"
      ],
      "metadata": {
        "colab": {
          "base_uri": "https://localhost:8080/",
          "height": 265
        },
        "id": "srcPgCegF0XL",
        "outputId": "ecd8fa91-e009-4900-d765-d507a67d7410"
      },
      "execution_count": null,
      "outputs": [
        {
          "output_type": "display_data",
          "data": {
            "text/plain": [
              "<Figure size 432x288 with 1 Axes>"
            ],
            "image/png": "[encoded data removed]"
          },
          "metadata": {
            "needs_background": "light"
          }
        }
      ]
    }
  ]
}