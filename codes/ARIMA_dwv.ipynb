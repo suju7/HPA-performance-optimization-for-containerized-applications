{
  "cells": [
    {
      "cell_type": "markdown",
      "source": [
        "# Installing libraries and dataset, preprocessing"
      ],
      "metadata": {
        "id": "vJ1qivn7p-Sa"
      }
    },
    {
      "cell_type": "code",
      "execution_count": null,
      "metadata": {
        "colab": {
          "base_uri": "https://localhost:8080/"
        },
        "id": "-_3HRxZULeUe",
        "outputId": "4a0b0dbd-c38a-4bb8-f25b-333c65116f3d"
      },
      "outputs": [
        {
          "output_type": "stream",
          "name": "stdout",
          "text": [
            "Requirement already satisfied: statsmodels in /usr/local/lib/python3.7/dist-packages (0.10.2)\n",
            "Collecting statsmodels\n",
            "  Downloading statsmodels-0.13.2-cp37-cp37m-manylinux_2_17_x86_64.manylinux2014_x86_64.whl (9.8 MB)\n",
            "\u001b[K     |████████████████████████████████| 9.8 MB 8.4 MB/s \n",
            "\u001b[?25hRequirement already satisfied: packaging>=21.3 in /usr/local/lib/python3.7/dist-packages (from statsmodels) (21.3)\n",
            "Requirement already satisfied: pandas>=0.25 in /usr/local/lib/python3.7/dist-packages (from statsmodels) (1.3.5)\n",
            "Requirement already satisfied: scipy>=1.3 in /usr/local/lib/python3.7/dist-packages (from statsmodels) (1.4.1)\n",
            "Requirement already satisfied: numpy>=1.17 in /usr/local/lib/python3.7/dist-packages (from statsmodels) (1.21.6)\n",
            "Requirement already satisfied: patsy>=0.5.2 in /usr/local/lib/python3.7/dist-packages (from statsmodels) (0.5.2)\n",
            "Requirement already satisfied: pyparsing!=3.0.5,>=2.0.2 in /usr/local/lib/python3.7/dist-packages (from packaging>=21.3->statsmodels) (3.0.8)\n",
            "Requirement already satisfied: pytz>=2017.3 in /usr/local/lib/python3.7/dist-packages (from pandas>=0.25->statsmodels) (2022.1)\n",
            "Requirement already satisfied: python-dateutil>=2.7.3 in /usr/local/lib/python3.7/dist-packages (from pandas>=0.25->statsmodels) (2.8.2)\n",
            "Requirement already satisfied: six in /usr/local/lib/python3.7/dist-packages (from patsy>=0.5.2->statsmodels) (1.15.0)\n",
            "Installing collected packages: statsmodels\n",
            "  Attempting uninstall: statsmodels\n",
            "    Found existing installation: statsmodels 0.10.2\n",
            "    Uninstalling statsmodels-0.10.2:\n",
            "      Successfully uninstalled statsmodels-0.10.2\n",
            "Successfully installed statsmodels-0.13.2\n",
            "Collecting pmdarima\n",
            "  Downloading pmdarima-1.8.5-cp37-cp37m-manylinux_2_17_x86_64.manylinux2014_x86_64.manylinux_2_24_x86_64.whl (1.4 MB)\n",
            "\u001b[K     |████████████████████████████████| 1.4 MB 7.8 MB/s \n",
            "\u001b[?25hRequirement already satisfied: Cython!=0.29.18,>=0.29 in /usr/local/lib/python3.7/dist-packages (from pmdarima) (0.29.28)\n",
            "Requirement already satisfied: pandas>=0.19 in /usr/local/lib/python3.7/dist-packages (from pmdarima) (1.3.5)\n",
            "Requirement already satisfied: urllib3 in /usr/local/lib/python3.7/dist-packages (from pmdarima) (1.24.3)\n",
            "Requirement already satisfied: scikit-learn>=0.22 in /usr/local/lib/python3.7/dist-packages (from pmdarima) (1.0.2)\n",
            "Requirement already satisfied: statsmodels!=0.12.0,>=0.11 in /usr/local/lib/python3.7/dist-packages (from pmdarima) (0.13.2)\n",
            "Requirement already satisfied: numpy>=1.19.3 in /usr/local/lib/python3.7/dist-packages (from pmdarima) (1.21.6)\n",
            "Requirement already satisfied: joblib>=0.11 in /usr/local/lib/python3.7/dist-packages (from pmdarima) (1.1.0)\n",
            "Requirement already satisfied: setuptools!=50.0.0,>=38.6.0 in /usr/local/lib/python3.7/dist-packages (from pmdarima) (57.4.0)\n",
            "Requirement already satisfied: scipy>=1.3.2 in /usr/local/lib/python3.7/dist-packages (from pmdarima) (1.4.1)\n",
            "Requirement already satisfied: pytz>=2017.3 in /usr/local/lib/python3.7/dist-packages (from pandas>=0.19->pmdarima) (2022.1)\n",
            "Requirement already satisfied: python-dateutil>=2.7.3 in /usr/local/lib/python3.7/dist-packages (from pandas>=0.19->pmdarima) (2.8.2)\n",
            "Requirement already satisfied: six>=1.5 in /usr/local/lib/python3.7/dist-packages (from python-dateutil>=2.7.3->pandas>=0.19->pmdarima) (1.15.0)\n",
            "Requirement already satisfied: threadpoolctl>=2.0.0 in /usr/local/lib/python3.7/dist-packages (from scikit-learn>=0.22->pmdarima) (3.1.0)\n",
            "Requirement already satisfied: patsy>=0.5.2 in /usr/local/lib/python3.7/dist-packages (from statsmodels!=0.12.0,>=0.11->pmdarima) (0.5.2)\n",
            "Requirement already satisfied: packaging>=21.3 in /usr/local/lib/python3.7/dist-packages (from statsmodels!=0.12.0,>=0.11->pmdarima) (21.3)\n",
            "Requirement already satisfied: pyparsing!=3.0.5,>=2.0.2 in /usr/local/lib/python3.7/dist-packages (from packaging>=21.3->statsmodels!=0.12.0,>=0.11->pmdarima) (3.0.8)\n",
            "Installing collected packages: pmdarima\n",
            "Successfully installed pmdarima-1.8.5\n"
          ]
        }
      ],
      "source": [
        "!pip3 install -U statsmodels\n",
        "!pip3 install pmdarima"
      ]
    },
    {
      "cell_type": "code",
      "execution_count": null,
      "metadata": {
        "id": "oLaOhoiEMwwP"
      },
      "outputs": [],
      "source": [
        "import pandas as pd\n",
        "import numpy as np          # For mathematical calculations\n",
        "import matplotlib.pyplot as plt  # For plotting graphs\n",
        "from datetime import datetime    # To access datetime\n",
        "from pandas import Series        # To work on series\n",
        "%matplotlib inline\n",
        "import warnings                   \n",
        "warnings.filterwarnings(\"ignore\")\n",
        "import pmdarima as pm"
      ]
    },
    {
      "cell_type": "code",
      "execution_count": null,
      "metadata": {
        "id": "a8CfjluXMwt5"
      },
      "outputs": [],
      "source": [
        "df = pd.read_csv(\"/content/sample_data/daily-website-visitors.csv\")\n",
        "\n",
        "df['Date'] = pd.to_datetime(df.Date, format='%m/%d/%Y')\n",
        "df['Page.Loads'] = df['Page.Loads'].str.replace(',', '')\n",
        "df['Count'] = df['Page.Loads'].astype(str).astype(int)\n",
        "df = df[['Date', 'Count']]\n",
        "df.set_index('Date', inplace=True)\n",
        "\n",
        "# take data upto 12/31/2019 due to covid outbreak in 2020, whose effect on this data is out of scope for us.\n",
        "df = df[df.index <= '12/31/2019']\n"
      ]
    },
    {
      "cell_type": "markdown",
      "metadata": {
        "id": "p5_r_6BeJdfW"
      },
      "source": [
        "PLOT FOR 1 YEAR. THE DATA IS PERIODIC (IDENTICAL GRAPH FOR EACH 365 DAYS) LOWEST AROUND JANUARY AND PEAK DURING MAY)"
      ]
    },
    {
      "cell_type": "code",
      "execution_count": null,
      "metadata": {
        "id": "xEhsq8WbMwkI"
      },
      "outputs": [],
      "source": [
        "plt.figure(figsize=(15,10)) \n",
        "plt.plot(df[:365]['Count'], label='Client Requests')\n",
        "plt.title('Website http requests over time') \n",
        "plt.xlabel(\"Time\") \n",
        "plt.ylabel(\"Hit count\")\n",
        "plt.legend(loc='best')\n",
        "plt.show()"
      ]
    },
    {
      "cell_type": "markdown",
      "metadata": {
        "id": "juUsESaeMm1d"
      },
      "source": [
        "## SETTING ARIMA PARAMETERS BY CHECKING PACF, STATIONARITY AND ACF. NEXT COMPARE IT TO AUTO ARIMA (WITHOUT SEASONALITY AND WITH SEASONALITY)."
      ]
    },
    {
      "cell_type": "markdown",
      "metadata": {
        "id": "Qmfl3rvDUrr0"
      },
      "source": [
        "### FIRST, LET'S FIND THE STATIONARITY (d), PACF(for p) and ACF(for q) for ARIMA model with params (p,d,q). \n",
        "\n",
        "#### TODO: TAKE log returns for more stationarity"
      ]
    },
    {
      "cell_type": "markdown",
      "metadata": {
        "id": "XFwc7payHo_Z"
      },
      "source": [
        "## NOTE: PACF and ACF with diff(log(Count)) making much more sense -> clearly weekly correlation exists! \n"
      ]
    },
    {
      "cell_type": "code",
      "execution_count": null,
      "metadata": {
        "id": "0GT3eAyYMrr3"
      },
      "outputs": [],
      "source": [
        ""
      ]
    },
    {
      "cell_type": "markdown",
      "metadata": {
        "id": "Xvr1huNKUe9c"
      },
      "source": [
        "ADF TEST FOR STATIONARITY"
      ]
    },
    {
      "cell_type": "code",
      "execution_count": null,
      "metadata": {
        "colab": {
          "base_uri": "https://localhost:8080/"
        },
        "id": "A7WxQImGMsWU",
        "outputId": "2b65956e-7bbb-40b3-a349-3c7d86ae0bca"
      },
      "outputs": [
        {
          "output_type": "stream",
          "name": "stdout",
          "text": [
            "ADF Statistic: -4.071149\n",
            "p-value: 0.001081\n",
            "Critical Values:\n",
            "\t1%: -3.434\n",
            "\t5%: -2.863\n",
            "\t10%: -2.568\n"
          ]
        }
      ],
      "source": [
        "# ADF TEST FOR STATIONARITY\n",
        "# Null Hypothesis (H0): The time series is non-stationary. It has some time dependent structure.\n",
        "# Alternate Hypothesis (H1): The time series is stationary. It does not have time-dependent structure.\n",
        "# The more negative ADF statistic is, the more likely we are to reject the null hypothesis.\n",
        "\n",
        "# p-value > 0.05: TIME SERIES NON-STATIONARY. Fail to reject the null hypothesis (H0), the data has a unit root and is non-stationary.\n",
        "# p-value <= 0.05: TIME SERIES STATIONARY. Reject the null hypothesis (H0), the data does not have a unit root and is stationary.\n",
        "\n",
        "# TAKE THIS. SET (p,d,q) = (p,0,q) AS THERE IS NO NEED OF I IN ARIMA HERE, NO UPWARD/DOWNWARD TREND, ALREADY STATIONARY. NEXT CELL IS JUST LIKE THAT.\n",
        "\n",
        "from statsmodels.tsa.stattools import adfuller\n",
        "result = adfuller(df['Count'])\n",
        "print('ADF Statistic: %f' % result[0])\n",
        "print('p-value: %f' % result[1])\n",
        "print('Critical Values:')\n",
        "for key, value in result[4].items():\n",
        "\tprint('\\t%s: %.3f' % (key, value))"
      ]
    },
    {
      "cell_type": "code",
      "execution_count": null,
      "metadata": {
        "id": "2VRdu7d9MsII"
      },
      "outputs": [],
      "source": [
        "# running adf test on log return np.log()\n",
        "\n",
        "# result = adfuller(np.log(df['Count']).diff().dropna())\n",
        "# print('ADF Statistic: %f' % result[0])\n",
        "# print('p-value: %f' % result[1])\n",
        "# print('Critical Values:')\n",
        "# for key, value in result[4].items():\n",
        "# \tprint('\\t%s: %.3f' % (key, value))"
      ]
    },
    {
      "cell_type": "code",
      "execution_count": null,
      "metadata": {
        "id": "fp6ymc4yU9sJ"
      },
      "outputs": [],
      "source": [
        ""
      ]
    },
    {
      "cell_type": "markdown",
      "metadata": {
        "id": "xyJmv6rQ4Gb0"
      },
      "source": [
        "PACF FOR PARAMETER p (for AR)"
      ]
    },
    {
      "cell_type": "code",
      "execution_count": null,
      "metadata": {
        "id": "gqKFNYjk4kVe"
      },
      "outputs": [],
      "source": [
        ""
      ]
    },
    {
      "cell_type": "code",
      "execution_count": null,
      "metadata": {
        "id": "Lb4lQL5iU9px"
      },
      "outputs": [],
      "source": [
        "from statsmodels.graphics.tsaplots import plot_pacf, plot_acf"
      ]
    },
    {
      "cell_type": "code",
      "execution_count": null,
      "metadata": {
        "colab": {
          "base_uri": "https://localhost:8080/",
          "height": 336
        },
        "id": "FZmZVNRPU9na",
        "outputId": "f5711a25-f7e0-4acc-a444-19fc79451d40"
      },
      "outputs": [
        {
          "output_type": "display_data",
          "data": {
            "text/plain": [
              "<Figure size 720x360 with 1 Axes>"
            ],
            "image/png": "[encoded data removed]"
          },
          "metadata": {
            "needs_background": "light"
          }
        }
      ],
      "source": [
        "# Identification of an AR model is often best done with the PACF.\n",
        "# We know for an AR model, the PACF tapers towards 0 past the order of the model. \n",
        "# By order of the model we mean the most extreme lag of x (date parameter).\n",
        "# Based on PACF, we are likely dealing with a auto-regressive (AR) process.\n",
        "# For simplicity, let's stick to the order 8.\n",
        "# We can ignore the lags within/near the blue bars as they are not statistically significant.\n",
        "\n",
        "fig, ax = plt.subplots(figsize=(10,5))\n",
        "pl = plot_pacf(df['Count'], ax=ax, title='PACF (with Count) for determining the order of AR')"
      ]
    },
    {
      "cell_type": "code",
      "execution_count": null,
      "metadata": {
        "colab": {
          "base_uri": "https://localhost:8080/",
          "height": 336
        },
        "id": "QcOL3jMTAMbc",
        "outputId": "55b665a6-1130-4b81-f075-8179d3b08cf7"
      },
      "outputs": [
        {
          "output_type": "display_data",
          "data": {
            "text/plain": [
              "<Figure size 720x360 with 1 Axes>"
            ],
            "image/png": "[encoded data removed]"
          },
          "metadata": {
            "needs_background": "light"
          }
        }
      ],
      "source": [
        "# Now, finding PACF (with diff(log(Count))) for determining the order of AR\n",
        "# NOTE: PACF and ACF with diff(log(Count)) making much more sense -> clearly weekly correlation exists! \n",
        "df2 = df.copy()\n",
        "df2['log_count'] = np.log(df2['Count']).diff()\n",
        "fig, ax = plt.subplots(figsize=(10,5))\n",
        "pl = plot_pacf(df2['log_count'].dropna(), ax=ax, title='PACF for determining the order of AR')"
      ]
    },
    {
      "cell_type": "markdown",
      "metadata": {
        "id": "EBSaxG719Phf"
      },
      "source": [
        "Plotting ACF for parameter q (for MA)"
      ]
    },
    {
      "cell_type": "code",
      "execution_count": null,
      "metadata": {
        "id": "sgCuK9tSH9_B"
      },
      "outputs": [],
      "source": [
        ""
      ]
    },
    {
      "cell_type": "code",
      "execution_count": null,
      "metadata": {
        "colab": {
          "base_uri": "https://localhost:8080/",
          "height": 336
        },
        "id": "lvKgjZZLH97X",
        "outputId": "e55a62a1-91e9-440d-a2cf-aa0fd48dabb1"
      },
      "outputs": [
        {
          "output_type": "display_data",
          "data": {
            "text/plain": [
              "<Figure size 720x360 with 1 Axes>"
            ],
            "image/png": "[encoded data removed]"
          },
          "metadata": {
            "needs_background": "light"
          }
        }
      ],
      "source": [
        "# x represents the number of days. almost represents a sine curve (and notice most lag days are lying outside the blue bars)\n",
        "fig, ax = plt.subplots(figsize=(10,5))\n",
        "pl = plot_acf(df['Count'], ax=ax, title='ACF (with Count) for determining the order of MA', lags=365)"
      ]
    },
    {
      "cell_type": "code",
      "execution_count": null,
      "metadata": {
        "id": "gDzMlw1yH95S"
      },
      "outputs": [],
      "source": [
        ""
      ]
    },
    {
      "cell_type": "code",
      "execution_count": null,
      "metadata": {
        "colab": {
          "base_uri": "https://localhost:8080/",
          "height": 336
        },
        "id": "wdVwHOCaH927",
        "outputId": "96efd0f8-81d7-4b68-eda9-13ce7496ff69"
      },
      "outputs": [
        {
          "output_type": "display_data",
          "data": {
            "text/plain": [
              "<Figure size 720x360 with 1 Axes>"
            ],
            "image/png": "[encoded data removed]"
          },
          "metadata": {
            "needs_background": "light"
          }
        }
      ],
      "source": [
        "# For keeping the model simpler, let's try to find an order which is far lower than this range.\n",
        "# To do that, we need ACF of diff(log(Count))\n",
        "# Besides yearly trend above, we can see a clear weekly pattern below, as the correlation in multiples of lag 7 is quite significant. So, let's take the order 7 for our MA model (q=7)\n",
        "df2 = df.copy()\n",
        "df2['log_count'] = np.log(df2['Count'])\n",
        "fig, ax = plt.subplots(figsize=(10,5))\n",
        "pl = plot_acf(df2['log_count'].dropna(), ax=ax, title='ACF for determining the order of MA')"
      ]
    },
    {
      "cell_type": "code",
      "execution_count": null,
      "metadata": {
        "id": "RQMw8GL7EwFu"
      },
      "outputs": [],
      "source": [
        ""
      ]
    },
    {
      "cell_type": "markdown",
      "metadata": {
        "id": "zNKBpZBUEvaq"
      },
      "source": [
        "## Building the ARIMA model with the (p,d,q) parameters we've chosen. "
      ]
    },
    {
      "cell_type": "code",
      "execution_count": null,
      "metadata": {
        "colab": {
          "base_uri": "https://localhost:8080/"
        },
        "id": "nEZo6LAoEvPj",
        "outputId": "7e9df715-7eef-4916-cbb7-c0fb3293d797"
      },
      "outputs": [
        {
          "output_type": "execute_result",
          "data": {
            "text/plain": [
              "(1742, 193)"
            ]
          },
          "metadata": {},
          "execution_count": 5
        }
      ],
      "source": [
        "Ntest = int(0.1 * len(df)) # doing 90-10 train-test split, test about 7 months\n",
        "train = df.iloc[:-Ntest]\n",
        "test = df.iloc[-Ntest:]\n",
        "len(train), len(test)"
      ]
    },
    {
      "cell_type": "code",
      "execution_count": null,
      "metadata": {
        "id": "9NKoY2gBzX_N"
      },
      "outputs": [],
      "source": [
        "train_idx = df.index <= train.index[-1] # ndarray of size len(df), stores True if df date (index) is <= Timestamp('2020-01-16 00:00:00') for 90-10 split\n",
        "test_idx = df.index > train.index[-1] # ndarray of size len(df) for test cases. "
      ]
    },
    {
      "cell_type": "markdown",
      "source": [
        "# Functions from udemy tutorial"
      ],
      "metadata": {
        "id": "oXuFCRIougC1"
      }
    },
    {
      "cell_type": "code",
      "execution_count": null,
      "metadata": {
        "id": "IRJ_kDZZzX5v"
      },
      "outputs": [],
      "source": [
        "# df.loc[train_idx, 'ARIMA(8,0,7)'] = arima_result.predict(start=train.index[0], end=train.index[-1])"
      ]
    },
    {
      "cell_type": "code",
      "execution_count": null,
      "metadata": {
        "id": "jdRFoOO1zXnY"
      },
      "outputs": [],
      "source": [
        "# df[['Count', 'ARIMA(8,0,7)']].plot(figsize=(15,10))\n",
        "# prediction_result = arima_result.get_forecast(Ntest)\n",
        "# forecast = prediction_result.predicted_mean\n",
        "# df.loc[test_idx, 'ARIMA(8,0,7)'] = forecast\n",
        "# prediction_result.conf_int()"
      ]
    },
    {
      "cell_type": "code",
      "execution_count": null,
      "metadata": {
        "id": "CQBm6_WlGjn4"
      },
      "outputs": [],
      "source": [
        "def rmse(result, is_logged):\n",
        "  forecast = result.forecast(Ntest)\n",
        "  if is_logged:\n",
        "    forecast = np.exp(forecast)\n",
        "  \n",
        "  t = test['Count']\n",
        "  y = forecast\n",
        "  return np.sqrt(np.mean((t-y)**2))"
      ]
    },
    {
      "cell_type": "code",
      "execution_count": null,
      "metadata": {
        "id": "Ws-JEmx1yqQn"
      },
      "outputs": [],
      "source": [
        "def plot_fit_and_forecast_int(result, d, col='Count'):\n",
        "  fig, ax = plt.subplots(figsize=(15,5))\n",
        "\n",
        "  # plot the actual data (train + test)\n",
        "  ax.plot(df[col], color='blue', label='actual data (train + test)')\n",
        "\n",
        "  # plot the curve fitted on train set\n",
        "  train_pred = result.predict(start=train.index[d], end=train.index[-1])\n",
        "  ax.plot(train.index[d:], train_pred, color='red', label='fitted on train data')\n",
        "\n",
        "  # forecast the test set\n",
        "  prediction_result = result.get_forecast(Ntest)\n",
        "  conf_int = prediction_result.conf_int()\n",
        "  lower, upper = conf_int[f'lower {col}'], conf_int[f'upper {col}']\n",
        "  forecast = prediction_result.predicted_mean\n",
        "  ax.plot(test.index, forecast, color='black', label='forecast on test data')\n",
        "  ax.set_title('Plotting actual vs predicted data')\n",
        "  ax.fill_between(test.index, lower, upper, color='red', alpha=0.3)\n",
        "  ax.legend()\n",
        "\n",
        "  return forecast\n"
      ]
    },
    {
      "cell_type": "code",
      "execution_count": null,
      "metadata": {
        "id": "17snosK2HuEG"
      },
      "outputs": [],
      "source": [
        "def plot_forecast_result(forecast, col='Count'):\n",
        "  fig, ax = plt.subplots(figsize=(15,5))\n",
        "  # plot the actual test data\n",
        "  ax.plot(test.index, df['Count'].iloc[-Ntest:], color='blue', label='actual')\n",
        "  # plot the predicted data for test\n",
        "  ax.plot(test.index, forecast, color='red', label='predicted')\n",
        "  ax.legend()"
      ]
    },
    {
      "cell_type": "markdown",
      "source": [
        "# ARIMA (daily)\n",
        "# (p,d,q)   RMSE values\n",
        "---\n",
        "* (🙂) (7,0,7) => mse= 1061830.1675933495 \t\trmse= 1030.4514387361248 \tnrmse= 0.1475868574528967  mae 813.7787150079824\n",
        "\n",
        " \n",
        "\n",
        "* (7,1,7) => mse= 1141067.806233072 \t\trmse= 1068.2077542468376 \tnrmse= 0.15299452223529614\n",
        "\n",
        "---\n",
        "* (8,0,7) => mse= 1106383.6284172977 \t\trmse= 1051.8477211161783 \tnrmse= 0.15065134934348012\n",
        "\n",
        "\n",
        "* (8,1,7) => mse= 1072980.6737855156 \t\trmse= 1035.8478043542475 \tnrmse= 0.14835975427588763\n",
        "\n",
        "---\n",
        "increasing d to more than 1 yields higher (bad) RMSE values\n"
      ],
      "metadata": {
        "id": "qw23igmhXN6n"
      }
    },
    {
      "cell_type": "code",
      "source": [
        "from statsmodels.tsa.arima.model import ARIMA\n",
        "arima = ARIMA(train['Count'], order=(7,0,7))\n",
        "arima_result = arima.fit()"
      ],
      "metadata": {
        "colab": {
          "base_uri": "https://localhost:8080/"
        },
        "id": "qPr_8vieW6ZB",
        "outputId": "fc50414a-5544-4517-949b-3a4c890692d2"
      },
      "execution_count": null,
      "outputs": [
        {
          "output_type": "stream",
          "name": "stderr",
          "text": [
            "/usr/local/lib/python3.7/dist-packages/statsmodels/tsa/base/tsa_model.py:471: ValueWarning: No frequency information was provided, so inferred frequency D will be used.\n",
            "  self._init_dates(dates, freq)\n",
            "/usr/local/lib/python3.7/dist-packages/statsmodels/tsa/base/tsa_model.py:471: ValueWarning: No frequency information was provided, so inferred frequency D will be used.\n",
            "  self._init_dates(dates, freq)\n",
            "/usr/local/lib/python3.7/dist-packages/statsmodels/tsa/base/tsa_model.py:471: ValueWarning: No frequency information was provided, so inferred frequency D will be used.\n",
            "  self._init_dates(dates, freq)\n",
            "/usr/local/lib/python3.7/dist-packages/statsmodels/base/model.py:606: ConvergenceWarning: Maximum Likelihood optimization failed to converge. Check mle_retvals\n",
            "  ConvergenceWarning)\n"
          ]
        }
      ]
    },
    {
      "cell_type": "code",
      "source": [
        "# print(rmse(arima_result, False))\n",
        "# plot_fit_and_forecast_int(arima_result)"
      ],
      "metadata": {
        "id": "P1YnAtdEW6Wh"
      },
      "execution_count": null,
      "outputs": []
    },
    {
      "cell_type": "code",
      "source": [
        "import math\n",
        "from sklearn.metrics import mean_squared_error, mean_absolute_error\n",
        "\n",
        "def get_scores(result):\n",
        "  mse = mean_squared_error(test['Count'],result.forecast(Ntest))\n",
        "  rmse = math.sqrt(mse)\n",
        "  nrmse = rmse / (max(df['Count']) - min(df['Count']))\n",
        "  mae = mean_absolute_error(test['Count'],result.forecast(Ntest))\n",
        "  print(\"mse=\",mse,\"\\t\\trmse=\",rmse,\"\\tnrmse=\",nrmse,\"\\tmae\",mae)"
      ],
      "metadata": {
        "id": "0scpPgAhXD79"
      },
      "execution_count": null,
      "outputs": []
    },
    {
      "cell_type": "code",
      "source": [
        "get_scores(arima_result)"
      ],
      "metadata": {
        "colab": {
          "base_uri": "https://localhost:8080/"
        },
        "id": "KIhMd45wZK3K",
        "outputId": "e852d787-3ec0-47b8-e5b4-4978a662bd6b"
      },
      "execution_count": null,
      "outputs": [
        {
          "output_type": "stream",
          "name": "stdout",
          "text": [
            "mse= 1061830.1675933495 \t\trmse= 1030.4514387361248 \tnrmse= 0.1475868574528967 \tmae 813.7787150079824\n"
          ]
        }
      ]
    },
    {
      "cell_type": "code",
      "source": [
        ""
      ],
      "metadata": {
        "id": "_gaz-P4vZYKz"
      },
      "execution_count": null,
      "outputs": []
    },
    {
      "cell_type": "markdown",
      "source": [
        "# SARIMAX (daily)\n",
        "# (p,d,q) (P,D,Q,s)\n",
        "---\n",
        "* 🙂 order=(0,1,0), seasonal_order=(1,0,1,168)) \n",
        "  * mse= 1373751.2065052283 \t\trmse= 1172.0713316625522 \tnrmse= 0.1678704284821759\n",
        "\n",
        "---\n",
        "* order=(0,1,0), seasonal_order=(1,0,1,7))\n",
        "  * mse= 4868304.157399478 \t\trmse= 2206.423385798718 \tnrmse= 0.31601595327967885\n",
        "---\n"
      ],
      "metadata": {
        "id": "bClXJw2XXTC3"
      }
    },
    {
      "cell_type": "code",
      "source": [
        "from statsmodels.tsa.statespace.sarimax import SARIMAX\n",
        "sarimax = SARIMAX(train['Count'], order=(0,1,0), seasonal_order=(1,0,1,168)) \n",
        "sarimax_result = sarimax.fit()\n",
        "# arima_result.summary()"
      ],
      "metadata": {
        "colab": {
          "base_uri": "https://localhost:8080/"
        },
        "id": "wUxuMejGXD5V",
        "outputId": "be917df1-2703-4a23-99a2-0d8542713b7e"
      },
      "execution_count": null,
      "outputs": [
        {
          "output_type": "stream",
          "name": "stderr",
          "text": [
            "/usr/local/lib/python3.7/dist-packages/statsmodels/tsa/base/tsa_model.py:471: ValueWarning: No frequency information was provided, so inferred frequency D will be used.\n",
            "  self._init_dates(dates, freq)\n",
            "/usr/local/lib/python3.7/dist-packages/statsmodels/tsa/base/tsa_model.py:471: ValueWarning: No frequency information was provided, so inferred frequency D will be used.\n",
            "  self._init_dates(dates, freq)\n"
          ]
        }
      ]
    },
    {
      "cell_type": "code",
      "source": [
        "get_scores(sarimax_result)"
      ],
      "metadata": {
        "colab": {
          "base_uri": "https://localhost:8080/"
        },
        "id": "F_OE4iGsXD11",
        "outputId": "4283dbf0-4eda-4c95-af6a-ff747c355b5c"
      },
      "execution_count": null,
      "outputs": [
        {
          "output_type": "stream",
          "name": "stdout",
          "text": [
            "mse= 1466287.9096954472 \t\trmse= 1210.9037574041329 \tnrmse= 0.1734322196224768 \tmae 992.5462766828618\n"
          ]
        }
      ]
    },
    {
      "cell_type": "markdown",
      "source": [
        "# PMD AUTO ARIMA"
      ],
      "metadata": {
        "id": "Rjf2OWwGETZG"
      }
    },
    {
      "cell_type": "code",
      "source": [
        "import math\n",
        "from sklearn.metrics import mean_squared_error\n",
        "\n",
        "def get_auto_scores(forecast):\n",
        "  mse = mean_squared_error(test['Count'],forecast)\n",
        "  rmse = math.sqrt(mse)\n",
        "  nrmse = rmse / (max(df['Count']) - min(df['Count']))\n",
        "  print(\"mse=\",mse,\"\\t\\trmse=\",rmse,\"\\tnrmse=\",nrmse)"
      ],
      "metadata": {
        "id": "6IOrUfQcMFoR"
      },
      "execution_count": null,
      "outputs": []
    },
    {
      "cell_type": "code",
      "source": [
        "# auto_model = pm.auto_arima(train, seasonal=True, m=7)\n",
        "auto_model = pm.auto_arima(train['Count'], trace=True, suppress_warnings=True, max_p=12, max_q)\n",
        "\n"
      ],
      "metadata": {
        "id": "qcpnKElVEXQI"
      },
      "execution_count": null,
      "outputs": []
    },
    {
      "cell_type": "code",
      "source": [
        "auto_model.summary()"
      ],
      "metadata": {
        "colab": {
          "base_uri": "https://localhost:8080/",
          "height": 451
        },
        "id": "qQdDqKPqRbcn",
        "outputId": "a9909c55-0d6f-475d-bba4-dbe5dc4c2cfb"
      },
      "execution_count": null,
      "outputs": [
        {
          "output_type": "execute_result",
          "data": {
            "text/plain": [
              "<class 'statsmodels.iolib.summary.Summary'>\n",
              "\"\"\"\n",
              "                                       SARIMAX Results                                        \n",
              "==============================================================================================\n",
              "Dep. Variable:                                      y   No. Observations:                 1742\n",
              "Model:             SARIMAX(0, 1, 0)x(1, 0, [1, 2], 7)   Log Likelihood              -12625.448\n",
              "Date:                                Thu, 05 May 2022   AIC                          25258.897\n",
              "Time:                                        17:30:22   BIC                          25280.746\n",
              "Sample:                                             0   HQIC                         25266.976\n",
              "                                               - 1742                                         \n",
              "Covariance Type:                                  opg                                         \n",
              "==============================================================================\n",
              "                 coef    std err          z      P>|z|      [0.025      0.975]\n",
              "------------------------------------------------------------------------------\n",
              "ar.S.L7        0.9991      0.001   1640.956      0.000       0.998       1.000\n",
              "ma.S.L7       -0.6850      0.019    -36.817      0.000      -0.721      -0.649\n",
              "ma.S.L14      -0.2053      0.020    -10.375      0.000      -0.244      -0.167\n",
              "sigma2       1.15e+05   2852.456     40.314      0.000    1.09e+05    1.21e+05\n",
              "===================================================================================\n",
              "Ljung-Box (L1) (Q):                   4.99   Jarque-Bera (JB):               346.24\n",
              "Prob(Q):                              0.03   Prob(JB):                         0.00\n",
              "Heteroskedasticity (H):               1.26   Skew:                             0.23\n",
              "Prob(H) (two-sided):                  0.01   Kurtosis:                         5.14\n",
              "===================================================================================\n",
              "\n",
              "Warnings:\n",
              "[1] Covariance matrix calculated using the outer product of gradients (complex-step).\n",
              "\"\"\""
            ],
            "text/html": [
              "<table class=\"simpletable\">\n",
              "<caption>SARIMAX Results</caption>\n",
              "<tr>\n",
              "  <th>Dep. Variable:</th>                    <td>y</td>                 <th>  No. Observations:  </th>    <td>1742</td>   \n",
              "</tr>\n",
              "<tr>\n",
              "  <th>Model:</th>           <td>SARIMAX(0, 1, 0)x(1, 0, [1, 2], 7)</td> <th>  Log Likelihood     </th> <td>-12625.448</td>\n",
              "</tr>\n",
              "<tr>\n",
              "  <th>Date:</th>                     <td>Thu, 05 May 2022</td>          <th>  AIC                </th>  <td>25258.897</td>\n",
              "</tr>\n",
              "<tr>\n",
              "  <th>Time:</th>                         <td>17:30:22</td>              <th>  BIC                </th>  <td>25280.746</td>\n",
              "</tr>\n",
              "<tr>\n",
              "  <th>Sample:</th>                           <td>0</td>                 <th>  HQIC               </th>  <td>25266.976</td>\n",
              "</tr>\n",
              "<tr>\n",
              "  <th></th>                               <td> - 1742</td>              <th>                     </th>      <td> </td>    \n",
              "</tr>\n",
              "<tr>\n",
              "  <th>Covariance Type:</th>                 <td>opg</td>                <th>                     </th>      <td> </td>    \n",
              "</tr>\n",
              "</table>\n",
              "<table class=\"simpletable\">\n",
              "<tr>\n",
              "      <td></td>        <th>coef</th>     <th>std err</th>      <th>z</th>      <th>P>|z|</th>  <th>[0.025</th>    <th>0.975]</th>  \n",
              "</tr>\n",
              "<tr>\n",
              "  <th>ar.S.L7</th>  <td>    0.9991</td> <td>    0.001</td> <td> 1640.956</td> <td> 0.000</td> <td>    0.998</td> <td>    1.000</td>\n",
              "</tr>\n",
              "<tr>\n",
              "  <th>ma.S.L7</th>  <td>   -0.6850</td> <td>    0.019</td> <td>  -36.817</td> <td> 0.000</td> <td>   -0.721</td> <td>   -0.649</td>\n",
              "</tr>\n",
              "<tr>\n",
              "  <th>ma.S.L14</th> <td>   -0.2053</td> <td>    0.020</td> <td>  -10.375</td> <td> 0.000</td> <td>   -0.244</td> <td>   -0.167</td>\n",
              "</tr>\n",
              "<tr>\n",
              "  <th>sigma2</th>   <td>  1.15e+05</td> <td> 2852.456</td> <td>   40.314</td> <td> 0.000</td> <td> 1.09e+05</td> <td> 1.21e+05</td>\n",
              "</tr>\n",
              "</table>\n",
              "<table class=\"simpletable\">\n",
              "<tr>\n",
              "  <th>Ljung-Box (L1) (Q):</th>     <td>4.99</td> <th>  Jarque-Bera (JB):  </th> <td>346.24</td>\n",
              "</tr>\n",
              "<tr>\n",
              "  <th>Prob(Q):</th>                <td>0.03</td> <th>  Prob(JB):          </th>  <td>0.00</td> \n",
              "</tr>\n",
              "<tr>\n",
              "  <th>Heteroskedasticity (H):</th> <td>1.26</td> <th>  Skew:              </th>  <td>0.23</td> \n",
              "</tr>\n",
              "<tr>\n",
              "  <th>Prob(H) (two-sided):</th>    <td>0.01</td> <th>  Kurtosis:          </th>  <td>5.14</td> \n",
              "</tr>\n",
              "</table><br/><br/>Warnings:<br/>[1] Covariance matrix calculated using the outer product of gradients (complex-step)."
            ]
          },
          "metadata": {},
          "execution_count": 21
        }
      ]
    },
    {
      "cell_type": "code",
      "source": [
        "auto_forecast = auto_model.predict(n_periods=Ntest)\n",
        "get_auto_scores(auto_forecast)"
      ],
      "metadata": {
        "colab": {
          "base_uri": "https://localhost:8080/"
        },
        "id": "5Gj-rwNBLFjt",
        "outputId": "3003b551-8e2d-4b18-f818-43ce057524fa"
      },
      "execution_count": null,
      "outputs": [
        {
          "output_type": "stream",
          "name": "stdout",
          "text": [
            "mse= 3258490.333553978 \t\trmse= 1805.128896659177 \tnrmse= 0.2585403747721537\n"
          ]
        }
      ]
    },
    {
      "cell_type": "markdown",
      "metadata": {
        "id": "z4ObUz-dvgMs"
      },
      "source": [
        "# LET'S TRY WITH LOGe(COUNT) AS IT WAS GIVING MORE PROMISING RESULTS"
      ]
    },
    {
      "cell_type": "markdown",
      "source": [
        "# ARIMA (daily) using log\n",
        "# (p,d,q)   RMSE values\n",
        "---\n",
        "* mse= 1126283.1277794214 \t\trmse= 1061.26487164111 \tnrmse= 0.15200012484117872\n",
        "\n",
        "* 🙂 (7,1,7) mse= 1096321.2441222689 \t\trmse= 1047.0536013606318 \tnrmse= 0.1499647094472403\n",
        "---\n",
        "* (8,0,7) mse= 1160921.5505333545 \t\trmse= 1077.4606955863192 \tnrmse= 0.1543197788006759\n",
        "\n",
        "\n",
        "* (8,1,7) mse= 1110888.3846147067 \t\trmse= 1053.9868996409332 \tnrmse= 0.15095773412216174\n",
        "\n"
      ],
      "metadata": {
        "id": "Uqr8j_d-gf2o"
      }
    },
    {
      "cell_type": "code",
      "execution_count": null,
      "metadata": {
        "colab": {
          "base_uri": "https://localhost:8080/"
        },
        "id": "kBPAgIS2aQ-p",
        "outputId": "d2d90e45-56bf-4bf7-a0a1-b2182ba1de0c"
      },
      "outputs": [
        {
          "output_type": "execute_result",
          "data": {
            "text/plain": [
              "(1935, 1742, 193)"
            ]
          },
          "metadata": {},
          "execution_count": 43
        }
      ],
      "source": [
        "df = df[['Count']]\n",
        "df['LogCount'] = np.log(df['Count'])\n",
        "Ntest = int(0.1 * len(df)) # doing 90-10 train-test split, test about 7 months\n",
        "train = df.iloc[:-Ntest]\n",
        "test = df.iloc[-Ntest:]\n",
        "len(df), len(train), len(test)"
      ]
    },
    {
      "cell_type": "code",
      "source": [
        "import math\n",
        "from sklearn.metrics import mean_squared_error\n",
        "\n",
        "def get_scores_log(result):\n",
        "  forecast = result.forecast(Ntest)\n",
        "  forecast = np.exp(forecast)\n",
        "  mse = mean_squared_error(test['Count'],forecast)\n",
        "  rmse = math.sqrt(mse)\n",
        "  nrmse = rmse / (max(df['Count']) - min(df['Count']))\n",
        "  print(\"mse=\",mse,\"\\t\\trmse=\",rmse,\"\\tnrmse=\",nrmse)"
      ],
      "metadata": {
        "id": "EqfYxFlcos7N"
      },
      "execution_count": null,
      "outputs": []
    },
    {
      "cell_type": "code",
      "execution_count": null,
      "metadata": {
        "id": "jrH1agpjyDwU",
        "colab": {
          "base_uri": "https://localhost:8080/"
        },
        "outputId": "36323ec1-d8f7-43d1-96c8-eb0ec687368e"
      },
      "outputs": [
        {
          "output_type": "stream",
          "name": "stderr",
          "text": [
            "/usr/local/lib/python3.7/dist-packages/statsmodels/tsa/base/tsa_model.py:471: ValueWarning: No frequency information was provided, so inferred frequency D will be used.\n",
            "  self._init_dates(dates, freq)\n",
            "/usr/local/lib/python3.7/dist-packages/statsmodels/tsa/base/tsa_model.py:471: ValueWarning: No frequency information was provided, so inferred frequency D will be used.\n",
            "  self._init_dates(dates, freq)\n",
            "/usr/local/lib/python3.7/dist-packages/statsmodels/tsa/base/tsa_model.py:471: ValueWarning: No frequency information was provided, so inferred frequency D will be used.\n",
            "  self._init_dates(dates, freq)\n",
            "/usr/local/lib/python3.7/dist-packages/statsmodels/base/model.py:606: ConvergenceWarning: Maximum Likelihood optimization failed to converge. Check mle_retvals\n",
            "  ConvergenceWarning)\n"
          ]
        }
      ],
      "source": [
        "arima = ARIMA(train['LogCount'], order=(7,0,7))\n",
        "arima_result_log = arima.fit()"
      ]
    },
    {
      "cell_type": "code",
      "execution_count": null,
      "metadata": {
        "id": "dnkF0kzqyDt7"
      },
      "outputs": [],
      "source": [
        "# plot_fit_and_forecast_int(arima_result_log, 1, col='LogCount')\n",
        "# print(rmse(arima_result_log, True)) "
      ]
    },
    {
      "cell_type": "code",
      "execution_count": null,
      "metadata": {
        "colab": {
          "base_uri": "https://localhost:8080/"
        },
        "id": "BpcDETWVyDrl",
        "outputId": "98a3fd4a-1bc0-42dc-dc8a-0c275dac8384"
      },
      "outputs": [
        {
          "output_type": "stream",
          "name": "stdout",
          "text": [
            "mse= 1126283.1277794214 \t\trmse= 1061.26487164111 \tnrmse= 0.15200012484117872\n"
          ]
        }
      ],
      "source": [
        "get_scores_log(arima_result_log)"
      ]
    },
    {
      "cell_type": "code",
      "execution_count": null,
      "metadata": {
        "id": "yqqsm3KsyDpO"
      },
      "outputs": [],
      "source": [
        ""
      ]
    },
    {
      "cell_type": "markdown",
      "metadata": {
        "id": "moldkISU42MX"
      },
      "source": [
        "# CONDENSE THE DATA INTO MEAN OF EACH WEEK AND COMPUTE (as we need seasonality of yearly data but seasonality=365 is too computationally heavy)"
      ]
    },
    {
      "cell_type": "code",
      "execution_count": null,
      "metadata": {
        "id": "jro0cbiM6DKf"
      },
      "outputs": [],
      "source": [
        "import pandas as pd\n",
        "import numpy as np          # For mathematical calculations\n",
        "import matplotlib.pyplot as plt  # For plotting graphs\n",
        "from datetime import datetime    # To access datetime\n",
        "from pandas import Series        # To work on series\n",
        "%matplotlib inline\n",
        "import warnings                   \n",
        "warnings.filterwarnings(\"ignore\")"
      ]
    },
    {
      "cell_type": "code",
      "execution_count": null,
      "metadata": {
        "id": "UOZfiRAZ5NyF"
      },
      "outputs": [],
      "source": [
        "df = pd.read_csv(\"/content/sample_data/daily-website-visitors.csv\")\n",
        "\n",
        "df['Date'] = pd.to_datetime(df.Date, format='%m/%d/%Y')\n",
        "df['Page.Loads'] = df['Page.Loads'].str.replace(',', '')\n",
        "df['Count'] = df['Page.Loads'].astype(str).astype(int)\n",
        "df = df[['Date', 'Day', 'Count']]\n",
        "df.set_index('Date', inplace=True)"
      ]
    },
    {
      "cell_type": "code",
      "execution_count": null,
      "metadata": {
        "id": "D5RMdrSL5N0K"
      },
      "outputs": [],
      "source": [
        "# take data upto 12/31/2019\n",
        "df = df[df.index <= '12/31/2019']\n",
        "\n",
        "# drop first three data as we want len(df) % 7 = 0 for weekly data\n",
        "df.drop(df.head(3).index, inplace = True)\n",
        "\n",
        "# we now have 276 weeks: to make it pretty, let's take a whole 270 weeks and make 90-10 split.\n",
        "df.drop(df.head(6*7).index, inplace = True)\n",
        "\n",
        "# our data starts from Wednesday, so on a weekly basis date, let's take the median date of Saturdays for our index\n",
        "df_saturdays = df[df['Day'] == 'Saturday']\n",
        "\n",
        "# we will take the mean of each week to get 270 rows of weekly data\n",
        "df = df.groupby(np.arange(len(df)) // 7).mean().astype(int)\n",
        "\n",
        "# finally change the index as the corresponding Saturday dates\n",
        "df.index = df_saturdays.index"
      ]
    },
    {
      "cell_type": "code",
      "execution_count": null,
      "metadata": {
        "colab": {
          "base_uri": "https://localhost:8080/"
        },
        "id": "5dk-pIAR5N2x",
        "outputId": "00db3a7c-ebdf-42d7-ea0a-9c5ea7c86e19"
      },
      "outputs": [
        {
          "output_type": "execute_result",
          "data": {
            "text/plain": [
              "(270, 243, 27)"
            ]
          },
          "metadata": {},
          "execution_count": 37
        }
      ],
      "source": [
        "Ntest = int(0.1 * len(df)) # doing 90-10 train-test split, test about 7 months\n",
        "train = df.iloc[:-Ntest]\n",
        "test = df.iloc[-Ntest:]\n",
        "len(df), len(train), len(test)"
      ]
    },
    {
      "cell_type": "code",
      "execution_count": null,
      "metadata": {
        "id": "2lgCmZ479C7E"
      },
      "outputs": [],
      "source": [
        "train_idx = df.index <= train.index[-1] # ndarray of size len(df), stores True if df date (index) is <= Timestamp('2020-01-16 00:00:00') for 90-10 split\n",
        "test_idx = df.index > train.index[-1] # ndarray of size len(df) for test cases. "
      ]
    },
    {
      "cell_type": "code",
      "execution_count": null,
      "metadata": {
        "id": "PJrpTnA6rnAi"
      },
      "outputs": [],
      "source": [
        "def get_first_day_of_year():\n",
        "  first_day_of_year = []\n",
        "  for i in range(1, len(df)):\n",
        "    prev_ind_yr = df.index[i-1].year\n",
        "    curr_ind_yr = df.index[i].year\n",
        "    if prev_ind_yr + 1 == curr_ind_yr:\n",
        "      first_day_of_year.append(df.index[i])\n",
        "  return first_day_of_year"
      ]
    },
    {
      "cell_type": "code",
      "execution_count": null,
      "metadata": {
        "colab": {
          "base_uri": "https://localhost:8080/",
          "height": 343
        },
        "id": "mrJK4gZx9DFW",
        "outputId": "f2f22b8a-be14-4839-9675-4f03a390c2fd"
      },
      "outputs": [
        {
          "output_type": "display_data",
          "data": {
            "text/plain": [
              "<Figure size 1080x360 with 1 Axes>"
            ],
            "image/png": "[encoded data removed]"
          },
          "metadata": {
            "needs_background": "light"
          }
        }
      ],
      "source": [
        "plt.figure(figsize=(15,5))\n",
        "plt.plot(df['Count'], label='Client Requests')\n",
        "plt.title('Website HTTP requests over time', fontdict={'fontsize':15}) \n",
        "plt.tick_params(axis='both', labelsize=15)\n",
        "# plt.xticks(np.arange(min(df.index),max(df.index),10))\n",
        "# for plotting the year-separators, get the starting of each year date\n",
        "first_day_of_year = get_first_day_of_year()\n",
        "for day in first_day_of_year:\n",
        "  plt.axvline(day, color='k', linestyle='--', alpha=0.2)\n",
        "plt.legend(loc='best')\n",
        "plt.show()"
      ]
    },
    {
      "cell_type": "code",
      "execution_count": null,
      "metadata": {
        "id": "6-VzMXj5Ewin"
      },
      "outputs": [],
      "source": [
        "\n"
      ]
    },
    {
      "cell_type": "code",
      "execution_count": null,
      "metadata": {
        "colab": {
          "base_uri": "https://localhost:8080/",
          "height": 430
        },
        "id": "SiixHbmtEwkj",
        "outputId": "fc6b1760-9edd-4cc6-b84d-d11f08f1d053"
      },
      "outputs": [
        {
          "output_type": "execute_result",
          "data": {
            "text/plain": [
              "<class 'statsmodels.iolib.summary.Summary'>\n",
              "\"\"\"\n",
              "                                      SARIMAX Results                                       \n",
              "============================================================================================\n",
              "Dep. Variable:                                Count   No. Observations:                  243\n",
              "Model:             SARIMAX(0, 1, 0)x(1, 0, [1], 52)   Log Likelihood               -1757.996\n",
              "Date:                              Thu, 05 May 2022   AIC                           3521.992\n",
              "Time:                                      15:16:57   BIC                           3532.459\n",
              "Sample:                                  11-01-2014   HQIC                          3526.209\n",
              "                                       - 06-22-2019                                         \n",
              "Covariance Type:                                opg                                         \n",
              "==============================================================================\n",
              "                 coef    std err          z      P>|z|      [0.025      0.975]\n",
              "------------------------------------------------------------------------------\n",
              "ar.S.L52       0.9632      0.019     50.782      0.000       0.926       1.000\n",
              "ma.S.L52      -0.6366      0.095     -6.734      0.000      -0.822      -0.451\n",
              "sigma2      9.076e+04   5413.414     16.766      0.000    8.02e+04    1.01e+05\n",
              "===================================================================================\n",
              "Ljung-Box (L1) (Q):                   0.52   Jarque-Bera (JB):                99.30\n",
              "Prob(Q):                              0.47   Prob(JB):                         0.00\n",
              "Heteroskedasticity (H):               1.55   Skew:                             0.11\n",
              "Prob(H) (two-sided):                  0.05   Kurtosis:                         6.13\n",
              "===================================================================================\n",
              "\n",
              "Warnings:\n",
              "[1] Covariance matrix calculated using the outer product of gradients (complex-step).\n",
              "\"\"\""
            ],
            "text/html": [
              "<table class=\"simpletable\">\n",
              "<caption>SARIMAX Results</caption>\n",
              "<tr>\n",
              "  <th>Dep. Variable:</th>                 <td>Count</td>              <th>  No. Observations:  </th>    <td>243</td>   \n",
              "</tr>\n",
              "<tr>\n",
              "  <th>Model:</th>           <td>SARIMAX(0, 1, 0)x(1, 0, [1], 52)</td> <th>  Log Likelihood     </th> <td>-1757.996</td>\n",
              "</tr>\n",
              "<tr>\n",
              "  <th>Date:</th>                    <td>Thu, 05 May 2022</td>         <th>  AIC                </th> <td>3521.992</td> \n",
              "</tr>\n",
              "<tr>\n",
              "  <th>Time:</th>                        <td>15:16:57</td>             <th>  BIC                </th> <td>3532.459</td> \n",
              "</tr>\n",
              "<tr>\n",
              "  <th>Sample:</th>                     <td>11-01-2014</td>            <th>  HQIC               </th> <td>3526.209</td> \n",
              "</tr>\n",
              "<tr>\n",
              "  <th></th>                           <td>- 06-22-2019</td>           <th>                     </th>     <td> </td>    \n",
              "</tr>\n",
              "<tr>\n",
              "  <th>Covariance Type:</th>                <td>opg</td>               <th>                     </th>     <td> </td>    \n",
              "</tr>\n",
              "</table>\n",
              "<table class=\"simpletable\">\n",
              "<tr>\n",
              "      <td></td>        <th>coef</th>     <th>std err</th>      <th>z</th>      <th>P>|z|</th>  <th>[0.025</th>    <th>0.975]</th>  \n",
              "</tr>\n",
              "<tr>\n",
              "  <th>ar.S.L52</th> <td>    0.9632</td> <td>    0.019</td> <td>   50.782</td> <td> 0.000</td> <td>    0.926</td> <td>    1.000</td>\n",
              "</tr>\n",
              "<tr>\n",
              "  <th>ma.S.L52</th> <td>   -0.6366</td> <td>    0.095</td> <td>   -6.734</td> <td> 0.000</td> <td>   -0.822</td> <td>   -0.451</td>\n",
              "</tr>\n",
              "<tr>\n",
              "  <th>sigma2</th>   <td> 9.076e+04</td> <td> 5413.414</td> <td>   16.766</td> <td> 0.000</td> <td> 8.02e+04</td> <td> 1.01e+05</td>\n",
              "</tr>\n",
              "</table>\n",
              "<table class=\"simpletable\">\n",
              "<tr>\n",
              "  <th>Ljung-Box (L1) (Q):</th>     <td>0.52</td> <th>  Jarque-Bera (JB):  </th> <td>99.30</td>\n",
              "</tr>\n",
              "<tr>\n",
              "  <th>Prob(Q):</th>                <td>0.47</td> <th>  Prob(JB):          </th> <td>0.00</td> \n",
              "</tr>\n",
              "<tr>\n",
              "  <th>Heteroskedasticity (H):</th> <td>1.55</td> <th>  Skew:              </th> <td>0.11</td> \n",
              "</tr>\n",
              "<tr>\n",
              "  <th>Prob(H) (two-sided):</th>    <td>0.05</td> <th>  Kurtosis:          </th> <td>6.13</td> \n",
              "</tr>\n",
              "</table><br/><br/>Warnings:<br/>[1] Covariance matrix calculated using the outer product of gradients (complex-step)."
            ]
          },
          "metadata": {},
          "execution_count": 65
        }
      ],
      "source": [
        "from statsmodels.tsa.arima.model import ARIMA\n",
        "# from statsmodels.tsa.statespace.sarimax import SARIMAX\n",
        "\n",
        "# arima = ARIMA(train['Count'], order=(52,0,52))\n",
        "arima = SARIMAX(train['Count'], order=(0,1,0), seasonal_order=(1,0,1,52)) \n",
        "\n",
        "# ARIMA: (52,1,52) => 684.1795738254816\n",
        "# SARIMAX: (0,1,0)(1,0,1,52) => 375.12137423520073\n",
        "arima_result = arima.fit()\n",
        "arima_result.summary()"
      ]
    },
    {
      "cell_type": "code",
      "execution_count": null,
      "metadata": {
        "id": "kVT1PUCwEwmz"
      },
      "outputs": [],
      "source": [
        "forecast = plot_fit_and_forecast_int(arima_result, 0, 'Count')"
      ]
    },
    {
      "cell_type": "code",
      "execution_count": null,
      "metadata": {
        "id": "rVYdlcnLv3kz"
      },
      "outputs": [],
      "source": [
        "plot_forecast_result(forecast, 'Count')"
      ]
    },
    {
      "cell_type": "code",
      "execution_count": null,
      "metadata": {
        "colab": {
          "base_uri": "https://localhost:8080/"
        },
        "id": "BiDK6rE0v3ip",
        "outputId": "cca906c5-f0f4-4a99-c878-218a094189c9"
      },
      "outputs": [
        {
          "output_type": "stream",
          "name": "stdout",
          "text": [
            "375.12137423520073\n"
          ]
        }
      ],
      "source": [
        "print(rmse(arima_result, False))"
      ]
    },
    {
      "cell_type": "code",
      "execution_count": null,
      "metadata": {
        "colab": {
          "base_uri": "https://localhost:8080/"
        },
        "id": "jggDmxkeEwpa",
        "outputId": "91138533-2749-465d-b8f9-9f4bfcc7b4c4"
      },
      "outputs": [
        {
          "output_type": "execute_result",
          "data": {
            "text/plain": [
              "0.0742814602445942"
            ]
          },
          "metadata": {},
          "execution_count": 67
        }
      ],
      "source": [
        "rmse(arima_result, False)/(max(df['Count']) - min(df['Count']))\n",
        "# this is probably max(test['df']) - min(test['df']) "
      ]
    },
    {
      "cell_type": "code",
      "source": [
        "df"
      ],
      "metadata": {
        "colab": {
          "base_uri": "https://localhost:8080/",
          "height": 455
        },
        "id": "Qp-05xhSzCdr",
        "outputId": "06f756bd-4c68-460e-82c4-f65b3cffc559"
      },
      "execution_count": null,
      "outputs": [
        {
          "output_type": "execute_result",
          "data": {
            "text/plain": [
              "            Count\n",
              "Date             \n",
              "2014-11-01   3722\n",
              "2014-11-08   3686\n",
              "2014-11-15   3873\n",
              "2014-11-22   4106\n",
              "2014-11-29   4175\n",
              "...           ...\n",
              "2019-11-30   4921\n",
              "2019-12-07   5864\n",
              "2019-12-14   4801\n",
              "2019-12-21   2693\n",
              "2019-12-28   1876\n",
              "\n",
              "[270 rows x 1 columns]"
            ],
            "text/html": [
              "\n",
              "  <div id=\"df-bbf74392-7822-4ccb-8c3e-a2c626495565\">\n",
              "    <div class=\"colab-df-container\">\n",
              "      <div>\n",
              "<style scoped>\n",
              "    .dataframe tbody tr th:only-of-type {\n",
              "        vertical-align: middle;\n",
              "    }\n",
              "\n",
              "    .dataframe tbody tr th {\n",
              "        vertical-align: top;\n",
              "    }\n",
              "\n",
              "    .dataframe thead th {\n",
              "        text-align: right;\n",
              "    }\n",
              "</style>\n",
              "<table border=\"1\" class=\"dataframe\">\n",
              "  <thead>\n",
              "    <tr style=\"text-align: right;\">\n",
              "      <th></th>\n",
              "      <th>Count</th>\n",
              "    </tr>\n",
              "    <tr>\n",
              "      <th>Date</th>\n",
              "      <th></th>\n",
              "    </tr>\n",
              "  </thead>\n",
              "  <tbody>\n",
              "    <tr>\n",
              "      <th>2014-11-01</th>\n",
              "      <td>3722</td>\n",
              "    </tr>\n",
              "    <tr>\n",
              "      <th>2014-11-08</th>\n",
              "      <td>3686</td>\n",
              "    </tr>\n",
              "    <tr>\n",
              "      <th>2014-11-15</th>\n",
              "      <td>3873</td>\n",
              "    </tr>\n",
              "    <tr>\n",
              "      <th>2014-11-22</th>\n",
              "      <td>4106</td>\n",
              "    </tr>\n",
              "    <tr>\n",
              "      <th>2014-11-29</th>\n",
              "      <td>4175</td>\n",
              "    </tr>\n",
              "    <tr>\n",
              "      <th>...</th>\n",
              "      <td>...</td>\n",
              "    </tr>\n",
              "    <tr>\n",
              "      <th>2019-11-30</th>\n",
              "      <td>4921</td>\n",
              "    </tr>\n",
              "    <tr>\n",
              "      <th>2019-12-07</th>\n",
              "      <td>5864</td>\n",
              "    </tr>\n",
              "    <tr>\n",
              "      <th>2019-12-14</th>\n",
              "      <td>4801</td>\n",
              "    </tr>\n",
              "    <tr>\n",
              "      <th>2019-12-21</th>\n",
              "      <td>2693</td>\n",
              "    </tr>\n",
              "    <tr>\n",
              "      <th>2019-12-28</th>\n",
              "      <td>1876</td>\n",
              "    </tr>\n",
              "  </tbody>\n",
              "</table>\n",
              "<p>270 rows × 1 columns</p>\n",
              "</div>\n",
              "      <button class=\"colab-df-convert\" onclick=\"convertToInteractive('df-bbf74392-7822-4ccb-8c3e-a2c626495565')\"\n",
              "              title=\"Convert this dataframe to an interactive table.\"\n",
              "              style=\"display:none;\">\n",
              "        \n",
              "  <svg xmlns=\"http://www.w3.org/2000/svg\" height=\"24px\"viewBox=\"0 0 24 24\"\n",
              "       width=\"24px\">\n",
              "    <path d=\"M0 0h24v24H0V0z\" fill=\"none\"/>\n",
              "    <path d=\"M18.56 5.44l.94 2.06.94-2.06 2.06-.94-2.06-.94-.94-2.06-.94 2.06-2.06.94zm-11 1L8.5 8.5l.94-2.06 2.06-.94-2.06-.94L8.5 2.5l-.94 2.06-2.06.94zm10 10l.94 2.06.94-2.06 2.06-.94-2.06-.94-.94-2.06-.94 2.06-2.06.94z\"/><path d=\"M17.41 7.96l-1.37-1.37c-.4-.4-.92-.59-1.43-.59-.52 0-1.04.2-1.43.59L10.3 9.45l-7.72 7.72c-.78.78-.78 2.05 0 2.83L4 21.41c.39.39.9.59 1.41.59.51 0 1.02-.2 1.41-.59l7.78-7.78 2.81-2.81c.8-.78.8-2.07 0-2.86zM5.41 20L4 18.59l7.72-7.72 1.47 1.35L5.41 20z\"/>\n",
              "  </svg>\n",
              "      </button>\n",
              "      \n",
              "  <style>\n",
              "    .colab-df-container {\n",
              "      display:flex;\n",
              "      flex-wrap:wrap;\n",
              "      gap: 12px;\n",
              "    }\n",
              "\n",
              "    .colab-df-convert {\n",
              "      background-color: #E8F0FE;\n",
              "      border: none;\n",
              "      border-radius: 50%;\n",
              "      cursor: pointer;\n",
              "      display: none;\n",
              "      fill: #1967D2;\n",
              "      height: 32px;\n",
              "      padding: 0 0 0 0;\n",
              "      width: 32px;\n",
              "    }\n",
              "\n",
              "    .colab-df-convert:hover {\n",
              "      background-color: #E2EBFA;\n",
              "      box-shadow: 0px 1px 2px rgba(60, 64, 67, 0.3), 0px 1px 3px 1px rgba(60, 64, 67, 0.15);\n",
              "      fill: #174EA6;\n",
              "    }\n",
              "\n",
              "    [theme=dark] .colab-df-convert {\n",
              "      background-color: #3B4455;\n",
              "      fill: #D2E3FC;\n",
              "    }\n",
              "\n",
              "    [theme=dark] .colab-df-convert:hover {\n",
              "      background-color: #434B5C;\n",
              "      box-shadow: 0px 1px 3px 1px rgba(0, 0, 0, 0.15);\n",
              "      filter: drop-shadow(0px 1px 2px rgba(0, 0, 0, 0.3));\n",
              "      fill: #FFFFFF;\n",
              "    }\n",
              "  </style>\n",
              "\n",
              "      <script>\n",
              "        const buttonEl =\n",
              "          document.querySelector('#df-bbf74392-7822-4ccb-8c3e-a2c626495565 button.colab-df-convert');\n",
              "        buttonEl.style.display =\n",
              "          google.colab.kernel.accessAllowed ? 'block' : 'none';\n",
              "\n",
              "        async function convertToInteractive(key) {\n",
              "          const element = document.querySelector('#df-bbf74392-7822-4ccb-8c3e-a2c626495565');\n",
              "          const dataTable =\n",
              "            await google.colab.kernel.invokeFunction('convertToInteractive',\n",
              "                                                     [key], {});\n",
              "          if (!dataTable) return;\n",
              "\n",
              "          const docLinkHtml = 'Like what you see? Visit the ' +\n",
              "            '<a target=\"_blank\" href=https://colab.research.google.com/notebooks/data_table.ipynb>data table notebook</a>'\n",
              "            + ' to learn more about interactive tables.';\n",
              "          element.innerHTML = '';\n",
              "          dataTable['output_type'] = 'display_data';\n",
              "          await google.colab.output.renderOutput(dataTable, element);\n",
              "          const docLink = document.createElement('div');\n",
              "          docLink.innerHTML = docLinkHtml;\n",
              "          element.appendChild(docLink);\n",
              "        }\n",
              "      </script>\n",
              "    </div>\n",
              "  </div>\n",
              "  "
            ]
          },
          "metadata": {},
          "execution_count": 68
        }
      ]
    }
  ],
  "metadata": {
    "colab": {
      "collapsed_sections": [
        "juUsESaeMm1d",
        "Qmfl3rvDUrr0",
        "oXuFCRIougC1",
        "z4ObUz-dvgMs",
        "Uqr8j_d-gf2o"
      ],
      "name": "ARIMA_dwv.ipynb",
      "provenance": []
    },
    "kernelspec": {
      "display_name": "Python 3",
      "name": "python3"
    },
    "language_info": {
      "name": "python"
    }
  },
  "nbformat": 4,
  "nbformat_minor": 0
}